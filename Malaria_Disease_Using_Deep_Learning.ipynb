{
  "nbformat": 4,
  "nbformat_minor": 0,
  "metadata": {
    "kernelspec": {
      "display_name": "Python 3",
      "language": "python",
      "name": "python3"
    },
    "language_info": {
      "codemirror_mode": {
        "name": "ipython",
        "version": 3
      },
      "file_extension": ".py",
      "mimetype": "text/x-python",
      "name": "python",
      "nbconvert_exporter": "python",
      "pygments_lexer": "ipython3",
      "version": "3.7.4"
    },
    "colab": {
      "name": "Malaria Disease Using Deep Learning.ipynb",
      "provenance": [],
      "collapsed_sections": []
    },
    "accelerator": "GPU"
  },
  "cells": [
    {
      "cell_type": "markdown",
      "metadata": {
        "id": "quHhRmjKpRwa"
      },
      "source": [
        "## Creating CNN Using Scratch And Transfer Learning"
      ]
    },
    {
      "cell_type": "code",
      "metadata": {
        "colab": {
          "base_uri": "https://localhost:8080/"
        },
        "id": "Qq5jqZWuGZXF",
        "outputId": "30b0a5fd-c117-4284-fd36-230b2f2ae372"
      },
      "source": [
        "from google.colab import drive\n",
        "drive.mount('/content/drive')"
      ],
      "execution_count": 4,
      "outputs": [
        {
          "output_type": "stream",
          "name": "stdout",
          "text": [
            "Mounted at /content/drive\n"
          ]
        }
      ]
    },
    {
      "cell_type": "markdown",
      "metadata": {
        "id": "B6OZTshTpRwl"
      },
      "source": [
        "Please download the dataset from the below url"
      ]
    },
    {
      "cell_type": "code",
      "metadata": {
        "id": "bor4B3TZpRwn"
      },
      "source": [
        "# import the libraries as shown below\n",
        "\n",
        "from tensorflow.keras.layers import Input, Lambda, Dense, Flatten,Conv2D\n",
        "from tensorflow.keras.models import Model\n",
        "from tensorflow.keras.applications.vgg19 import VGG19\n",
        "from tensorflow.keras.applications.resnet50 import preprocess_input\n",
        "from tensorflow.keras.preprocessing import image\n",
        "from tensorflow.keras.preprocessing.image import ImageDataGenerator,load_img\n",
        "from tensorflow.keras.models import Sequential\n",
        "import numpy as np\n",
        "from glob import glob\n",
        "import matplotlib.pyplot as plt"
      ],
      "execution_count": 9,
      "outputs": []
    },
    {
      "cell_type": "code",
      "metadata": {
        "colab": {
          "base_uri": "https://localhost:8080/"
        },
        "id": "JDKPpeLypwtu",
        "outputId": "efdc4042-81b3-4eb6-e546-3111600e6897"
      },
      "source": [
        "import tensorflow as tf\n",
        "print(tf.__version__)"
      ],
      "execution_count": 5,
      "outputs": [
        {
          "output_type": "stream",
          "name": "stdout",
          "text": [
            "2.6.0\n"
          ]
        }
      ]
    },
    {
      "cell_type": "code",
      "metadata": {
        "id": "8z-EiA31pRws"
      },
      "source": [
        "# re-size all the images to this\n",
        "IMAGE_SIZE = [224, 224]\n",
        "\n",
        "train_path = '/content/drive/MyDrive/Malaria-Detection-master/Dataset/Train'\n",
        "valid_path = '/content/drive/MyDrive/Malaria-Detection-master/Dataset/Test'\n"
      ],
      "execution_count": 6,
      "outputs": []
    },
    {
      "cell_type": "code",
      "metadata": {
        "colab": {
          "base_uri": "https://localhost:8080/"
        },
        "id": "p66zFeVbpRwt",
        "outputId": "b8dcb1dc-26c6-451f-f4c7-fe7886c379ea"
      },
      "source": [
        "# Import the Vgg 16 library as shown below and add preprocessing layer to the front of VGG\n",
        "# Here we will be using imagenet weights\n",
        "\n",
        "mobilnet = VGG19(input_shape=IMAGE_SIZE + [3], weights='imagenet', include_top=False)\n",
        "\n",
        "\n"
      ],
      "execution_count": 10,
      "outputs": [
        {
          "output_type": "stream",
          "name": "stdout",
          "text": [
            "Downloading data from https://storage.googleapis.com/tensorflow/keras-applications/vgg19/vgg19_weights_tf_dim_ordering_tf_kernels_notop.h5\n",
            "80142336/80134624 [==============================] - 1s 0us/step\n",
            "80150528/80134624 [==============================] - 1s 0us/step\n"
          ]
        }
      ]
    },
    {
      "cell_type": "code",
      "metadata": {
        "id": "EZf3BLsKpRwu"
      },
      "source": [
        "# don't train existing weights\n",
        "for layer in mobilnet.layers:\n",
        "    layer.trainable = False"
      ],
      "execution_count": 11,
      "outputs": []
    },
    {
      "cell_type": "code",
      "metadata": {
        "id": "jCiH8aoLpRwv"
      },
      "source": [
        "  # useful for getting number of output classes\n",
        "folders = glob('/content/drive/MyDrive/Malaria-Detection-master/Dataset/Train/*')"
      ],
      "execution_count": 12,
      "outputs": []
    },
    {
      "cell_type": "code",
      "metadata": {
        "colab": {
          "base_uri": "https://localhost:8080/"
        },
        "id": "0tLqxd8OpRwx",
        "outputId": "dcd876e4-85c7-4664-c899-c67f3a3c49ef"
      },
      "source": [
        "folders"
      ],
      "execution_count": 13,
      "outputs": [
        {
          "output_type": "execute_result",
          "data": {
            "text/plain": [
              "['/content/drive/MyDrive/Malaria-Detection-master/Dataset/Train/Uninfected',\n",
              " '/content/drive/MyDrive/Malaria-Detection-master/Dataset/Train/Parasite']"
            ]
          },
          "metadata": {},
          "execution_count": 13
        }
      ]
    },
    {
      "cell_type": "code",
      "metadata": {
        "id": "FgVhXsshpRw0"
      },
      "source": [
        "# our layers - you can add more if you want\n",
        "x = Flatten()(mobilnet.output)"
      ],
      "execution_count": 14,
      "outputs": []
    },
    {
      "cell_type": "code",
      "metadata": {
        "id": "gJm-70JDpRw4"
      },
      "source": [
        "prediction = Dense(len(folders), activation='softmax')(x)\n",
        "\n",
        "# create a model object\n",
        "model = Model(inputs=mobilnet.input, outputs=prediction)"
      ],
      "execution_count": 15,
      "outputs": []
    },
    {
      "cell_type": "code",
      "metadata": {
        "id": "w8J29fNdpRw5"
      },
      "source": [
        "\n",
        "# view the structure of the model\n",
        "model.summary()\n"
      ],
      "execution_count": null,
      "outputs": []
    },
    {
      "cell_type": "code",
      "metadata": {
        "id": "212GVCdZpRw6"
      },
      "source": [
        "from tensorflow.keras.layers import MaxPooling2D"
      ],
      "execution_count": 17,
      "outputs": []
    },
    {
      "cell_type": "code",
      "metadata": {
        "colab": {
          "base_uri": "https://localhost:8080/"
        },
        "id": "N2LCzFxlpRw7",
        "outputId": "83d74c97-7283-4748-9179-ebda4f70c462"
      },
      "source": [
        "### Create Model from scratch using CNN\n",
        "model=Sequential()\n",
        "model.add(Conv2D(filters=16,kernel_size=2,padding=\"same\",activation=\"relu\",input_shape=(224,224,3)))\n",
        "model.add(MaxPooling2D(pool_size=2))\n",
        "model.add(Conv2D(filters=32,kernel_size=2,padding=\"same\",activation =\"relu\"))\n",
        "model.add(MaxPooling2D(pool_size=2))\n",
        "model.add(Conv2D(filters=64,kernel_size=2,padding=\"same\",activation=\"relu\"))\n",
        "model.add(MaxPooling2D(pool_size=2))\n",
        "model.add(Flatten())\n",
        "model.add(Dense(500,activation=\"relu\"))\n",
        "model.add(Dense(2,activation=\"softmax\"))\n",
        "model.summary()"
      ],
      "execution_count": 18,
      "outputs": [
        {
          "output_type": "stream",
          "name": "stdout",
          "text": [
            "Model: \"sequential\"\n",
            "_________________________________________________________________\n",
            "Layer (type)                 Output Shape              Param #   \n",
            "=================================================================\n",
            "conv2d (Conv2D)              (None, 224, 224, 16)      208       \n",
            "_________________________________________________________________\n",
            "max_pooling2d (MaxPooling2D) (None, 112, 112, 16)      0         \n",
            "_________________________________________________________________\n",
            "conv2d_1 (Conv2D)            (None, 112, 112, 32)      2080      \n",
            "_________________________________________________________________\n",
            "max_pooling2d_1 (MaxPooling2 (None, 56, 56, 32)        0         \n",
            "_________________________________________________________________\n",
            "conv2d_2 (Conv2D)            (None, 56, 56, 64)        8256      \n",
            "_________________________________________________________________\n",
            "max_pooling2d_2 (MaxPooling2 (None, 28, 28, 64)        0         \n",
            "_________________________________________________________________\n",
            "flatten_1 (Flatten)          (None, 50176)             0         \n",
            "_________________________________________________________________\n",
            "dense_1 (Dense)              (None, 500)               25088500  \n",
            "_________________________________________________________________\n",
            "dense_2 (Dense)              (None, 2)                 1002      \n",
            "=================================================================\n",
            "Total params: 25,100,046\n",
            "Trainable params: 25,100,046\n",
            "Non-trainable params: 0\n",
            "_________________________________________________________________\n"
          ]
        }
      ]
    },
    {
      "cell_type": "code",
      "metadata": {
        "id": "698gAydHpRw8"
      },
      "source": [
        "# tell the model what cost and optimization method to use\n",
        "model.compile(\n",
        "  loss='categorical_crossentropy',\n",
        "  optimizer='adam',\n",
        "  metrics=['accuracy']\n",
        ")\n"
      ],
      "execution_count": 19,
      "outputs": []
    },
    {
      "cell_type": "code",
      "metadata": {
        "id": "25htGiC-pRw9"
      },
      "source": [
        "# Use the Image Data Generator to import the images from the dataset\n",
        "from tensorflow.keras.preprocessing.image import ImageDataGenerator\n",
        "\n",
        "train_datagen = ImageDataGenerator(rescale = 1./255,\n",
        "                                   shear_range = 0.2,\n",
        "                                   zoom_range = 0.2,\n",
        "                                   horizontal_flip = True)\n",
        "\n",
        "test_datagen = ImageDataGenerator(rescale = 1./255)"
      ],
      "execution_count": 20,
      "outputs": []
    },
    {
      "cell_type": "code",
      "metadata": {
        "colab": {
          "base_uri": "https://localhost:8080/"
        },
        "id": "4MfcQ2dypRw-",
        "outputId": "1a63f9aa-d926-411d-d7fd-695fa38b994e"
      },
      "source": [
        "# Make sure you provide the same target size as initialied for the image size\n",
        "training_set = train_datagen.flow_from_directory('/content/drive/MyDrive/Malaria-Detection-master/Dataset/Train',\n",
        "                                                 target_size = (224, 224),\n",
        "                                                 batch_size = 32,\n",
        "                                                 class_mode = 'categorical')"
      ],
      "execution_count": 32,
      "outputs": [
        {
          "output_type": "stream",
          "name": "stdout",
          "text": [
            "Found 416 images belonging to 2 classes.\n"
          ]
        }
      ]
    },
    {
      "cell_type": "code",
      "metadata": {
        "colab": {
          "base_uri": "https://localhost:8080/"
        },
        "id": "8o57HvITpRw_",
        "outputId": "60ec4364-7efc-4ec5-b390-45b3dbe86f3d"
      },
      "source": [
        "training_set"
      ],
      "execution_count": 33,
      "outputs": [
        {
          "output_type": "execute_result",
          "data": {
            "text/plain": [
              "<keras.preprocessing.image.DirectoryIterator at 0x7fa2327b5510>"
            ]
          },
          "metadata": {},
          "execution_count": 33
        }
      ]
    },
    {
      "cell_type": "code",
      "metadata": {
        "colab": {
          "base_uri": "https://localhost:8080/"
        },
        "id": "aOOSVdUUpRxA",
        "outputId": "80ce073d-c414-4330-dae8-b08274f3a0fc"
      },
      "source": [
        "test_set = test_datagen.flow_from_directory('/content/drive/MyDrive/Malaria-Detection-master/Dataset/Test',\n",
        "                                            target_size = (224, 224),\n",
        "                                            batch_size = 32,\n",
        "                                            class_mode = 'categorical')"
      ],
      "execution_count": 31,
      "outputs": [
        {
          "output_type": "stream",
          "name": "stdout",
          "text": [
            "Found 134 images belonging to 2 classes.\n"
          ]
        }
      ]
    },
    {
      "cell_type": "code",
      "metadata": {
        "scrolled": true,
        "colab": {
          "base_uri": "https://localhost:8080/"
        },
        "id": "6xXSzgNIpRxB",
        "outputId": "a0dd1155-78f5-4a71-c9af-1117e56473d4"
      },
      "source": [
        "# fit the model\n",
        "# Run the cell. It will take some time to execute\n",
        "r = model.fit_generator(\n",
        "  training_set,\n",
        "  validation_data=test_set,\n",
        "  epochs=50,\n",
        "  steps_per_epoch=len(training_set),\n",
        "  validation_steps=len(test_set)\n",
        ")"
      ],
      "execution_count": 35,
      "outputs": [
        {
          "output_type": "stream",
          "name": "stderr",
          "text": [
            "/usr/local/lib/python3.7/dist-packages/keras/engine/training.py:1972: UserWarning: `Model.fit_generator` is deprecated and will be removed in a future version. Please use `Model.fit`, which supports generators.\n",
            "  warnings.warn('`Model.fit_generator` is deprecated and '\n"
          ]
        },
        {
          "output_type": "stream",
          "name": "stdout",
          "text": [
            "Epoch 1/50\n",
            "13/13 [==============================] - 85s 6s/step - loss: 1.5914 - accuracy: 0.5433 - val_loss: 0.7584 - val_accuracy: 0.4328\n",
            "Epoch 2/50\n",
            "13/13 [==============================] - 22s 2s/step - loss: 0.5595 - accuracy: 0.7019 - val_loss: 0.8013 - val_accuracy: 0.4552\n",
            "Epoch 3/50\n",
            "13/13 [==============================] - 22s 2s/step - loss: 0.5550 - accuracy: 0.7115 - val_loss: 1.0393 - val_accuracy: 0.3806\n",
            "Epoch 4/50\n",
            "13/13 [==============================] - 22s 2s/step - loss: 0.4793 - accuracy: 0.7692 - val_loss: 1.0891 - val_accuracy: 0.3955\n",
            "Epoch 5/50\n",
            "13/13 [==============================] - 22s 2s/step - loss: 0.4426 - accuracy: 0.7909 - val_loss: 0.8918 - val_accuracy: 0.3806\n",
            "Epoch 6/50\n",
            "13/13 [==============================] - 22s 2s/step - loss: 0.4034 - accuracy: 0.8197 - val_loss: 1.0965 - val_accuracy: 0.4030\n",
            "Epoch 7/50\n",
            "13/13 [==============================] - 22s 2s/step - loss: 0.3989 - accuracy: 0.8125 - val_loss: 0.8357 - val_accuracy: 0.5075\n",
            "Epoch 8/50\n",
            "13/13 [==============================] - 22s 2s/step - loss: 0.3473 - accuracy: 0.8654 - val_loss: 0.6563 - val_accuracy: 0.6269\n",
            "Epoch 9/50\n",
            "13/13 [==============================] - 22s 2s/step - loss: 0.3555 - accuracy: 0.8462 - val_loss: 0.5220 - val_accuracy: 0.6940\n",
            "Epoch 10/50\n",
            "13/13 [==============================] - 22s 2s/step - loss: 0.2604 - accuracy: 0.8798 - val_loss: 0.6426 - val_accuracy: 0.6493\n",
            "Epoch 11/50\n",
            "13/13 [==============================] - 22s 2s/step - loss: 0.2345 - accuracy: 0.9014 - val_loss: 0.6918 - val_accuracy: 0.6716\n",
            "Epoch 12/50\n",
            "13/13 [==============================] - 22s 2s/step - loss: 0.1997 - accuracy: 0.9279 - val_loss: 0.3303 - val_accuracy: 0.8806\n",
            "Epoch 13/50\n",
            "13/13 [==============================] - 22s 2s/step - loss: 0.1688 - accuracy: 0.9375 - val_loss: 0.6846 - val_accuracy: 0.6940\n",
            "Epoch 14/50\n",
            "13/13 [==============================] - 22s 2s/step - loss: 0.1932 - accuracy: 0.9423 - val_loss: 0.3798 - val_accuracy: 0.8209\n",
            "Epoch 15/50\n",
            "13/13 [==============================] - 22s 2s/step - loss: 0.1455 - accuracy: 0.9471 - val_loss: 0.3356 - val_accuracy: 0.8582\n",
            "Epoch 16/50\n",
            "13/13 [==============================] - 22s 2s/step - loss: 0.1456 - accuracy: 0.9399 - val_loss: 0.2791 - val_accuracy: 0.8881\n",
            "Epoch 17/50\n",
            "13/13 [==============================] - 22s 2s/step - loss: 0.1108 - accuracy: 0.9760 - val_loss: 0.4062 - val_accuracy: 0.8284\n",
            "Epoch 18/50\n",
            "13/13 [==============================] - 22s 2s/step - loss: 0.1076 - accuracy: 0.9639 - val_loss: 0.3161 - val_accuracy: 0.8731\n",
            "Epoch 19/50\n",
            "13/13 [==============================] - 22s 2s/step - loss: 0.1117 - accuracy: 0.9688 - val_loss: 0.2675 - val_accuracy: 0.8955\n",
            "Epoch 20/50\n",
            "13/13 [==============================] - 22s 2s/step - loss: 0.0863 - accuracy: 0.9736 - val_loss: 0.2791 - val_accuracy: 0.8806\n",
            "Epoch 21/50\n",
            "13/13 [==============================] - 22s 2s/step - loss: 0.0763 - accuracy: 0.9808 - val_loss: 0.2967 - val_accuracy: 0.8731\n",
            "Epoch 22/50\n",
            "13/13 [==============================] - 22s 2s/step - loss: 0.0696 - accuracy: 0.9784 - val_loss: 0.4938 - val_accuracy: 0.8284\n",
            "Epoch 23/50\n",
            "13/13 [==============================] - 22s 2s/step - loss: 0.0746 - accuracy: 0.9832 - val_loss: 0.2878 - val_accuracy: 0.8881\n",
            "Epoch 24/50\n",
            "13/13 [==============================] - 22s 2s/step - loss: 0.1175 - accuracy: 0.9591 - val_loss: 0.6690 - val_accuracy: 0.7612\n",
            "Epoch 25/50\n",
            "13/13 [==============================] - 22s 2s/step - loss: 0.2402 - accuracy: 0.9279 - val_loss: 0.6535 - val_accuracy: 0.6866\n",
            "Epoch 26/50\n",
            "13/13 [==============================] - 22s 2s/step - loss: 0.1986 - accuracy: 0.9255 - val_loss: 0.4704 - val_accuracy: 0.7836\n",
            "Epoch 27/50\n",
            "13/13 [==============================] - 22s 2s/step - loss: 0.1322 - accuracy: 0.9543 - val_loss: 0.4013 - val_accuracy: 0.8358\n",
            "Epoch 28/50\n",
            "13/13 [==============================] - 22s 2s/step - loss: 0.0711 - accuracy: 0.9784 - val_loss: 0.3066 - val_accuracy: 0.8881\n",
            "Epoch 29/50\n",
            "13/13 [==============================] - 22s 2s/step - loss: 0.0599 - accuracy: 0.9856 - val_loss: 0.2787 - val_accuracy: 0.9030\n",
            "Epoch 30/50\n",
            "13/13 [==============================] - 22s 2s/step - loss: 0.0393 - accuracy: 0.9856 - val_loss: 0.2312 - val_accuracy: 0.9179\n",
            "Epoch 31/50\n",
            "13/13 [==============================] - 22s 2s/step - loss: 0.0451 - accuracy: 0.9928 - val_loss: 0.4731 - val_accuracy: 0.8582\n",
            "Epoch 32/50\n",
            "13/13 [==============================] - 22s 2s/step - loss: 0.0629 - accuracy: 0.9832 - val_loss: 0.2502 - val_accuracy: 0.8955\n",
            "Epoch 33/50\n",
            "13/13 [==============================] - 22s 2s/step - loss: 0.0488 - accuracy: 0.9832 - val_loss: 0.4427 - val_accuracy: 0.8731\n",
            "Epoch 34/50\n",
            "13/13 [==============================] - 22s 2s/step - loss: 0.0805 - accuracy: 0.9736 - val_loss: 0.2421 - val_accuracy: 0.9030\n",
            "Epoch 35/50\n",
            "13/13 [==============================] - 22s 2s/step - loss: 0.0389 - accuracy: 0.9928 - val_loss: 0.2544 - val_accuracy: 0.9179\n",
            "Epoch 36/50\n",
            "13/13 [==============================] - 22s 2s/step - loss: 0.0591 - accuracy: 0.9784 - val_loss: 0.4676 - val_accuracy: 0.8657\n",
            "Epoch 37/50\n",
            "13/13 [==============================] - 22s 2s/step - loss: 0.0510 - accuracy: 0.9928 - val_loss: 0.2412 - val_accuracy: 0.9030\n",
            "Epoch 38/50\n",
            "13/13 [==============================] - 22s 2s/step - loss: 0.0321 - accuracy: 0.9952 - val_loss: 0.3610 - val_accuracy: 0.8955\n",
            "Epoch 39/50\n",
            "13/13 [==============================] - 22s 2s/step - loss: 0.0221 - accuracy: 0.9928 - val_loss: 0.2770 - val_accuracy: 0.9104\n",
            "Epoch 40/50\n",
            "13/13 [==============================] - 22s 2s/step - loss: 0.0557 - accuracy: 0.9856 - val_loss: 0.3327 - val_accuracy: 0.8881\n",
            "Epoch 41/50\n",
            "13/13 [==============================] - 22s 2s/step - loss: 0.0375 - accuracy: 0.9904 - val_loss: 0.3091 - val_accuracy: 0.8955\n",
            "Epoch 42/50\n",
            "13/13 [==============================] - 22s 2s/step - loss: 0.0388 - accuracy: 0.9928 - val_loss: 0.2559 - val_accuracy: 0.9104\n",
            "Epoch 43/50\n",
            "13/13 [==============================] - 22s 2s/step - loss: 0.0276 - accuracy: 0.9928 - val_loss: 0.4405 - val_accuracy: 0.8806\n",
            "Epoch 44/50\n",
            "13/13 [==============================] - 22s 2s/step - loss: 0.0375 - accuracy: 0.9904 - val_loss: 0.1519 - val_accuracy: 0.9403\n",
            "Epoch 45/50\n",
            "13/13 [==============================] - 22s 2s/step - loss: 0.0349 - accuracy: 0.9952 - val_loss: 0.3306 - val_accuracy: 0.8955\n",
            "Epoch 46/50\n",
            "13/13 [==============================] - 22s 2s/step - loss: 0.0444 - accuracy: 0.9856 - val_loss: 0.2906 - val_accuracy: 0.8955\n",
            "Epoch 47/50\n",
            "13/13 [==============================] - 22s 2s/step - loss: 0.0355 - accuracy: 0.9976 - val_loss: 0.2304 - val_accuracy: 0.9254\n",
            "Epoch 48/50\n",
            "13/13 [==============================] - 22s 2s/step - loss: 0.0366 - accuracy: 0.9928 - val_loss: 0.5213 - val_accuracy: 0.8731\n",
            "Epoch 49/50\n",
            "13/13 [==============================] - 22s 2s/step - loss: 0.0589 - accuracy: 0.9784 - val_loss: 0.2388 - val_accuracy: 0.9179\n",
            "Epoch 50/50\n",
            "13/13 [==============================] - 22s 2s/step - loss: 0.0185 - accuracy: 0.9952 - val_loss: 0.3684 - val_accuracy: 0.8955\n"
          ]
        }
      ]
    },
    {
      "cell_type": "code",
      "metadata": {
        "id": "bTw15WlxpRxC"
      },
      "source": [
        ""
      ],
      "execution_count": 35,
      "outputs": []
    },
    {
      "cell_type": "code",
      "metadata": {
        "colab": {
          "base_uri": "https://localhost:8080/",
          "height": 531
        },
        "id": "Eiv0rhaXpRxD",
        "outputId": "41869388-42fb-4a51-f234-57a4539b0bcb"
      },
      "source": [
        "# plot the loss\n",
        "plt.plot(r.history['loss'], label='train loss')\n",
        "plt.plot(r.history['val_loss'], label='val loss')\n",
        "plt.legend()\n",
        "plt.show()\n",
        "plt.savefig('LossVal_loss')\n",
        "\n",
        "# plot the accuracy\n",
        "plt.plot(r.history['accuracy'], label='train acc')\n",
        "plt.plot(r.history['val_accuracy'], label='val acc')\n",
        "plt.legend()\n",
        "plt.show()\n",
        "plt.savefig('AccVal_acc')"
      ],
      "execution_count": 36,
      "outputs": [
        {
          "output_type": "display_data",
          "data": {
            "image/png": "[encoded data removed]",
            "text/plain": [
              "<Figure size 432x288 with 1 Axes>"
            ]
          },
          "metadata": {
            "needs_background": "light"
          }
        },
        {
          "output_type": "display_data",
          "data": {
            "image/png": "[encoded data removed]",
            "text/plain": [
              "<Figure size 432x288 with 1 Axes>"
            ]
          },
          "metadata": {
            "needs_background": "light"
          }
        },
        {
          "output_type": "display_data",
          "data": {
            "text/plain": [
              "<Figure size 432x288 with 0 Axes>"
            ]
          },
          "metadata": {}
        }
      ]
    },
    {
      "cell_type": "code",
      "metadata": {
        "id": "Qf0opHl9pRxE"
      },
      "source": [
        "# save it as a h5 file\n",
        "\n",
        "\n",
        "from tensorflow.keras.models import load_model\n",
        "\n",
        "model.save('model_vgg19.h5')"
      ],
      "execution_count": 37,
      "outputs": []
    },
    {
      "cell_type": "code",
      "metadata": {
        "id": "Cjj3ioEBpRxF"
      },
      "source": [
        ""
      ],
      "execution_count": 37,
      "outputs": []
    },
    {
      "cell_type": "code",
      "metadata": {
        "id": "8CLbzt4zpRxF"
      },
      "source": [
        "\n",
        "y_pred = model.predict(test_set)\n"
      ],
      "execution_count": 38,
      "outputs": []
    },
    {
      "cell_type": "code",
      "metadata": {
        "colab": {
          "base_uri": "https://localhost:8080/"
        },
        "id": "tsNERDA2pRxG",
        "outputId": "18a56b61-25cd-4bf6-90ef-11a5d893b12f"
      },
      "source": [
        "y_pred"
      ],
      "execution_count": 39,
      "outputs": [
        {
          "output_type": "execute_result",
          "data": {
            "text/plain": [
              "array([[6.31116509e-01, 3.68883520e-01],\n",
              "       [9.99988079e-01, 1.18910102e-05],\n",
              "       [1.00000000e+00, 2.55884358e-09],\n",
              "       [9.99019742e-01, 9.80250654e-04],\n",
              "       [1.52404176e-03, 9.98475969e-01],\n",
              "       [2.56154197e-03, 9.97438431e-01],\n",
              "       [3.59873194e-03, 9.96401310e-01],\n",
              "       [3.04652285e-02, 9.69534814e-01],\n",
              "       [1.60560594e-03, 9.98394430e-01],\n",
              "       [9.99999762e-01, 2.36088695e-07],\n",
              "       [2.33934331e-03, 9.97660637e-01],\n",
              "       [1.81567750e-03, 9.98184264e-01],\n",
              "       [9.99967456e-01, 3.25681940e-05],\n",
              "       [1.00000000e+00, 2.33630355e-11],\n",
              "       [9.99888182e-01, 1.11772286e-04],\n",
              "       [7.34014437e-04, 9.99265969e-01],\n",
              "       [9.99900937e-01, 9.90547342e-05],\n",
              "       [9.99432623e-01, 5.67384122e-04],\n",
              "       [9.99925852e-01, 7.41918993e-05],\n",
              "       [9.97543335e-01, 2.45669833e-03],\n",
              "       [9.99991059e-01, 8.89615239e-06],\n",
              "       [1.00000000e+00, 1.60960164e-22],\n",
              "       [2.62322575e-02, 9.73767757e-01],\n",
              "       [1.19363691e-03, 9.98806357e-01],\n",
              "       [1.00000000e+00, 9.20239662e-10],\n",
              "       [9.99992967e-01, 7.06369929e-06],\n",
              "       [5.43687167e-03, 9.94563162e-01],\n",
              "       [1.00000000e+00, 4.34893224e-08],\n",
              "       [9.99897838e-01, 1.02210550e-04],\n",
              "       [9.99997139e-01, 2.84504745e-06],\n",
              "       [4.40421922e-04, 9.99559581e-01],\n",
              "       [9.99992251e-01, 7.75839453e-06],\n",
              "       [2.64698896e-03, 9.97353077e-01],\n",
              "       [1.68851726e-02, 9.83114839e-01],\n",
              "       [2.28985641e-02, 9.77101386e-01],\n",
              "       [1.00000000e+00, 4.09651202e-10],\n",
              "       [9.99999762e-01, 2.63257959e-07],\n",
              "       [1.11494586e-03, 9.98885095e-01],\n",
              "       [4.19958262e-03, 9.95800436e-01],\n",
              "       [9.98619676e-01, 1.38029421e-03],\n",
              "       [1.40126678e-03, 9.98598754e-01],\n",
              "       [1.00000000e+00, 5.24568478e-15],\n",
              "       [1.00000000e+00, 1.06861520e-09],\n",
              "       [9.99992132e-01, 7.84888834e-06],\n",
              "       [1.00000000e+00, 6.33505193e-11],\n",
              "       [1.00000000e+00, 8.13969250e-22],\n",
              "       [1.00000000e+00, 1.47086494e-08],\n",
              "       [3.51164997e-01, 6.48835063e-01],\n",
              "       [7.94155523e-04, 9.99205887e-01],\n",
              "       [7.30085000e-03, 9.92699206e-01],\n",
              "       [9.99961615e-01, 3.84142877e-05],\n",
              "       [9.99999762e-01, 2.48300296e-07],\n",
              "       [1.94545044e-03, 9.98054624e-01],\n",
              "       [9.99997973e-01, 1.96796077e-06],\n",
              "       [9.68363106e-01, 3.16369161e-02],\n",
              "       [1.24830788e-03, 9.98751640e-01],\n",
              "       [2.66201259e-03, 9.97337997e-01],\n",
              "       [9.99984741e-01, 1.52750672e-05],\n",
              "       [9.96502399e-01, 3.49762361e-03],\n",
              "       [2.21187668e-03, 9.97788072e-01],\n",
              "       [9.99973178e-01, 2.68533022e-05],\n",
              "       [6.14619493e-01, 3.85380536e-01],\n",
              "       [7.90964987e-04, 9.99209106e-01],\n",
              "       [6.26917230e-03, 9.93730903e-01],\n",
              "       [9.99954343e-01, 4.56326452e-05],\n",
              "       [2.11852929e-03, 9.97881472e-01],\n",
              "       [1.06473698e-03, 9.98935282e-01],\n",
              "       [2.03650654e-03, 9.97963548e-01],\n",
              "       [9.99994874e-01, 5.10488962e-06],\n",
              "       [9.99998093e-01, 1.92892389e-06],\n",
              "       [9.99967337e-01, 3.26176742e-05],\n",
              "       [6.03929220e-04, 9.99396086e-01],\n",
              "       [9.98825014e-01, 1.17496774e-03],\n",
              "       [9.99999642e-01, 3.23656565e-07],\n",
              "       [9.99634624e-01, 3.65391228e-04],\n",
              "       [1.18977334e-02, 9.88102317e-01],\n",
              "       [9.58959222e-01, 4.10407819e-02],\n",
              "       [9.99944806e-01, 5.51334706e-05],\n",
              "       [6.46322791e-04, 9.99353707e-01],\n",
              "       [2.82212291e-02, 9.71778750e-01],\n",
              "       [4.40266192e-01, 5.59733808e-01],\n",
              "       [6.42304076e-04, 9.99357760e-01],\n",
              "       [1.00000000e+00, 5.39460707e-08],\n",
              "       [9.99735892e-01, 2.64067581e-04],\n",
              "       [6.30151182e-02, 9.36984837e-01],\n",
              "       [2.16423869e-01, 7.83576131e-01],\n",
              "       [9.99967337e-01, 3.26245172e-05],\n",
              "       [9.85079050e-01, 1.49209565e-02],\n",
              "       [9.99241233e-01, 7.58808223e-04],\n",
              "       [9.99556124e-01, 4.43886296e-04],\n",
              "       [9.84541297e-01, 1.54586975e-02],\n",
              "       [1.00000000e+00, 4.09117540e-08],\n",
              "       [1.00000000e+00, 2.08045314e-08],\n",
              "       [6.64038991e-04, 9.99335945e-01],\n",
              "       [9.99087214e-01, 9.12735006e-04],\n",
              "       [1.00000000e+00, 1.22197284e-14],\n",
              "       [5.03584335e-04, 9.99496341e-01],\n",
              "       [6.15151413e-03, 9.93848503e-01],\n",
              "       [3.64510040e-03, 9.96354938e-01],\n",
              "       [9.99953389e-01, 4.66643432e-05],\n",
              "       [5.78144705e-03, 9.94218588e-01],\n",
              "       [7.27340356e-02, 9.27265942e-01],\n",
              "       [1.00000000e+00, 1.01291406e-10],\n",
              "       [9.99827087e-01, 1.72968590e-04],\n",
              "       [1.33572763e-03, 9.98664260e-01],\n",
              "       [1.00000000e+00, 7.51603085e-19],\n",
              "       [6.70975656e-04, 9.99329090e-01],\n",
              "       [4.07439715e-04, 9.99592602e-01],\n",
              "       [9.99999523e-01, 4.87352395e-07],\n",
              "       [1.00000000e+00, 7.18219129e-09],\n",
              "       [9.57366428e-04, 9.99042571e-01],\n",
              "       [1.31226133e-03, 9.98687685e-01],\n",
              "       [9.99915123e-01, 8.48874261e-05],\n",
              "       [6.59314543e-02, 9.34068561e-01],\n",
              "       [9.99571621e-01, 4.28405881e-04],\n",
              "       [2.87875044e-03, 9.97121274e-01],\n",
              "       [2.41485168e-03, 9.97585177e-01],\n",
              "       [2.42849682e-02, 9.75715101e-01],\n",
              "       [9.99999642e-01, 3.08460557e-07],\n",
              "       [9.99987006e-01, 1.30250037e-05],\n",
              "       [9.91572142e-01, 8.42792448e-03],\n",
              "       [7.16918730e-04, 9.99283135e-01],\n",
              "       [2.23455369e-03, 9.97765422e-01],\n",
              "       [1.00000000e+00, 1.80481698e-20],\n",
              "       [1.74183056e-01, 8.25816929e-01],\n",
              "       [9.96247590e-01, 3.75239458e-03],\n",
              "       [9.99981284e-01, 1.87172645e-05],\n",
              "       [2.66689761e-03, 9.97333169e-01],\n",
              "       [1.00000000e+00, 3.37060070e-24],\n",
              "       [1.00000000e+00, 1.79169044e-13],\n",
              "       [9.99998808e-01, 1.21186577e-06],\n",
              "       [9.99999762e-01, 2.50755875e-07],\n",
              "       [1.00000000e+00, 5.52530899e-15],\n",
              "       [1.00000000e+00, 2.00512499e-13]], dtype=float32)"
            ]
          },
          "metadata": {},
          "execution_count": 39
        }
      ]
    },
    {
      "cell_type": "code",
      "metadata": {
        "id": "Emgu6Gm-pRxH"
      },
      "source": [
        "import numpy as np\n",
        "y_pred = np.argmax(y_pred, axis=1)"
      ],
      "execution_count": 40,
      "outputs": []
    },
    {
      "cell_type": "code",
      "metadata": {
        "colab": {
          "base_uri": "https://localhost:8080/"
        },
        "id": "JB7OA_UupRxI",
        "outputId": "17cee760-91f0-46a7-df11-c0f35964a5b0"
      },
      "source": [
        "y_pred"
      ],
      "execution_count": 41,
      "outputs": [
        {
          "output_type": "execute_result",
          "data": {
            "text/plain": [
              "array([0, 0, 0, 0, 1, 1, 1, 1, 1, 0, 1, 1, 0, 0, 0, 1, 0, 0, 0, 0, 0, 0,\n",
              "       1, 1, 0, 0, 1, 0, 0, 0, 1, 0, 1, 1, 1, 0, 0, 1, 1, 0, 1, 0, 0, 0,\n",
              "       0, 0, 0, 1, 1, 1, 0, 0, 1, 0, 0, 1, 1, 0, 0, 1, 0, 0, 1, 1, 0, 1,\n",
              "       1, 1, 0, 0, 0, 1, 0, 0, 0, 1, 0, 0, 1, 1, 1, 1, 0, 0, 1, 1, 0, 0,\n",
              "       0, 0, 0, 0, 0, 1, 0, 0, 1, 1, 1, 0, 1, 1, 0, 0, 1, 0, 1, 1, 0, 0,\n",
              "       1, 1, 0, 1, 0, 1, 1, 1, 0, 0, 0, 1, 1, 0, 1, 0, 0, 1, 0, 0, 0, 0,\n",
              "       0, 0])"
            ]
          },
          "metadata": {},
          "execution_count": 41
        }
      ]
    },
    {
      "cell_type": "code",
      "metadata": {
        "id": "B0_UO9ZTpRxI"
      },
      "source": [
        ""
      ],
      "execution_count": 41,
      "outputs": []
    },
    {
      "cell_type": "code",
      "metadata": {
        "id": "A_On9DDkpRxJ"
      },
      "source": [
        "from tensorflow.keras.models import load_model\n",
        "from tensorflow.keras.preprocessing import image"
      ],
      "execution_count": 42,
      "outputs": []
    },
    {
      "cell_type": "code",
      "metadata": {
        "id": "YfFoTqjFpRxJ"
      },
      "source": [
        "model=load_model('model_vgg19.h5')"
      ],
      "execution_count": 43,
      "outputs": []
    },
    {
      "cell_type": "code",
      "metadata": {
        "id": "uZzZoK8spRxJ"
      },
      "source": [
        ""
      ],
      "execution_count": 43,
      "outputs": []
    },
    {
      "cell_type": "code",
      "metadata": {
        "id": "oTzppY8qpRxK"
      },
      "source": [
        "img=image.load_img('/content/drive/MyDrive/Malaria-Detection-master/Dataset/Train/Uninfected/C1_thinF_IMG_20150604_104722_cell_115.png',target_size=(224,224))\n",
        "\n"
      ],
      "execution_count": 47,
      "outputs": []
    },
    {
      "cell_type": "code",
      "metadata": {
        "colab": {
          "base_uri": "https://localhost:8080/"
        },
        "id": "sNbK3NnfpRxK",
        "outputId": "2394e29a-7ca0-4315-9c92-a331a6e00314"
      },
      "source": [
        "x=image.img_to_array(img)\n",
        "x"
      ],
      "execution_count": 48,
      "outputs": [
        {
          "output_type": "execute_result",
          "data": {
            "text/plain": [
              "array([[[0., 0., 0.],\n",
              "        [0., 0., 0.],\n",
              "        [0., 0., 0.],\n",
              "        ...,\n",
              "        [0., 0., 0.],\n",
              "        [0., 0., 0.],\n",
              "        [0., 0., 0.]],\n",
              "\n",
              "       [[0., 0., 0.],\n",
              "        [0., 0., 0.],\n",
              "        [0., 0., 0.],\n",
              "        ...,\n",
              "        [0., 0., 0.],\n",
              "        [0., 0., 0.],\n",
              "        [0., 0., 0.]],\n",
              "\n",
              "       [[0., 0., 0.],\n",
              "        [0., 0., 0.],\n",
              "        [0., 0., 0.],\n",
              "        ...,\n",
              "        [0., 0., 0.],\n",
              "        [0., 0., 0.],\n",
              "        [0., 0., 0.]],\n",
              "\n",
              "       ...,\n",
              "\n",
              "       [[0., 0., 0.],\n",
              "        [0., 0., 0.],\n",
              "        [0., 0., 0.],\n",
              "        ...,\n",
              "        [0., 0., 0.],\n",
              "        [0., 0., 0.],\n",
              "        [0., 0., 0.]],\n",
              "\n",
              "       [[0., 0., 0.],\n",
              "        [0., 0., 0.],\n",
              "        [0., 0., 0.],\n",
              "        ...,\n",
              "        [0., 0., 0.],\n",
              "        [0., 0., 0.],\n",
              "        [0., 0., 0.]],\n",
              "\n",
              "       [[0., 0., 0.],\n",
              "        [0., 0., 0.],\n",
              "        [0., 0., 0.],\n",
              "        ...,\n",
              "        [0., 0., 0.],\n",
              "        [0., 0., 0.],\n",
              "        [0., 0., 0.]]], dtype=float32)"
            ]
          },
          "metadata": {},
          "execution_count": 48
        }
      ]
    },
    {
      "cell_type": "code",
      "metadata": {
        "colab": {
          "base_uri": "https://localhost:8080/"
        },
        "id": "1SHJITgcpRxL",
        "outputId": "1383d338-66cb-472f-8d77-ca8ab30d45dd"
      },
      "source": [
        "x.shape"
      ],
      "execution_count": 49,
      "outputs": [
        {
          "output_type": "execute_result",
          "data": {
            "text/plain": [
              "(224, 224, 3)"
            ]
          },
          "metadata": {},
          "execution_count": 49
        }
      ]
    },
    {
      "cell_type": "code",
      "metadata": {
        "id": "9Jx0o-GxpRxL"
      },
      "source": [
        "x=x/255"
      ],
      "execution_count": 50,
      "outputs": []
    },
    {
      "cell_type": "code",
      "metadata": {
        "colab": {
          "base_uri": "https://localhost:8080/"
        },
        "id": "EZ7tLKmGpRxM",
        "outputId": "ecceb6e1-685e-44b4-be96-5edce5f5ec15"
      },
      "source": [
        "x=np.expand_dims(x,axis=0)\n",
        "img_data=preprocess_input(x)\n",
        "img_data.shape"
      ],
      "execution_count": 51,
      "outputs": [
        {
          "output_type": "execute_result",
          "data": {
            "text/plain": [
              "(1, 224, 224, 3)"
            ]
          },
          "metadata": {},
          "execution_count": 51
        }
      ]
    },
    {
      "cell_type": "code",
      "metadata": {
        "colab": {
          "base_uri": "https://localhost:8080/"
        },
        "id": "9cnEbmERpRxN",
        "outputId": "ba5ce94e-8b68-47f6-a201-1a10af9c06a9"
      },
      "source": [
        "model.predict(img_data)"
      ],
      "execution_count": 52,
      "outputs": [
        {
          "output_type": "execute_result",
          "data": {
            "text/plain": [
              "array([[0., 1.]], dtype=float32)"
            ]
          },
          "metadata": {},
          "execution_count": 52
        }
      ]
    },
    {
      "cell_type": "code",
      "metadata": {
        "id": "BULQB-7rpRxN"
      },
      "source": [
        "a=np.argmax(model.predict(img_data), axis=1)"
      ],
      "execution_count": 53,
      "outputs": []
    },
    {
      "cell_type": "code",
      "metadata": {
        "colab": {
          "base_uri": "https://localhost:8080/"
        },
        "id": "bG3WP0fkpRxN",
        "outputId": "975d9c20-0c69-4ff8-a4dc-480af2bf4688"
      },
      "source": [
        "if(a==1):\n",
        "    print(\"Uninfected\")\n",
        "else:\n",
        "    print(\"Infected\")"
      ],
      "execution_count": 54,
      "outputs": [
        {
          "output_type": "stream",
          "name": "stdout",
          "text": [
            "Uninfected\n"
          ]
        }
      ]
    }
  ]
}